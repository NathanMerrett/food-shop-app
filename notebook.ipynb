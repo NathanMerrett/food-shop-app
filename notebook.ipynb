{
 "cells": [
  {
   "cell_type": "code",
   "execution_count": 11,
   "metadata": {},
   "outputs": [],
   "source": [
    "import aiohttp\n",
    "import asyncio\n",
    "from bs4 import BeautifulSoup\n"
   ]
  },
  {
   "cell_type": "code",
   "execution_count": 12,
   "metadata": {},
   "outputs": [],
   "source": [
    "tesco_sitemap = \"https://www.tesco.com/groceries/sitemap/UK.en.pdp.sitemap.xml\""
   ]
  },
  {
   "cell_type": "code",
   "execution_count": 14,
   "metadata": {},
   "outputs": [],
   "source": [
    "async def get_urls_from_sitemap(sitemap_url):\n",
    "    async with aiohttp.ClientSession() as session:\n",
    "        async with session.get(sitemap_url) as response:\n",
    "            if response.status != 200:\n",
    "                response.raise_for_status()\n",
    "\n",
    "            content = await response.text()\n",
    "\n",
    "    # Parse the sitemap XML\n",
    "    soup = BeautifulSoup(content, 'xml')\n",
    "    urls = [loc.text for loc in soup.find_all('loc')]\n",
    "\n",
    "    return urls\n",
    "\n",
    "async def fetch_all_sitemaps(sitemap_urls):\n",
    "    return await asyncio.gather(*(get_urls_from_sitemap(url) for url in sitemap_urls))\n",
    "\n",
    "# To run the asynchronous function, you'll need an event loop:\n",
    "if __name__ == \"__main__\":\n",
    "    sitemap_list = [\"https://example1.com/sitemap.xml\", \"https://example2.com/sitemap.xml\"]\n",
    "    all_urls = asyncio.run(fetch_all_sitemaps(sitemap_list))\n",
    "    \n",
    "    # Flatten the list of lists into a single list of URLs\n",
    "    all_urls_flat = [url for sublist in all_urls for url in sublist]\n",
    "    print(all_urls_flat)\n"
   ]
  },
  {
   "cell_type": "code",
   "execution_count": null,
   "metadata": {},
   "outputs": [],
   "source": [
    "import aiohttp\n",
    "import asyncio\n",
    "from bs4 import BeautifulSoup\n",
    "≈"
   ]
  },
  {
   "cell_type": "code",
   "execution_count": null,
   "metadata": {},
   "outputs": [],
   "source": []
  },
  {
   "cell_type": "code",
   "execution_count": null,
   "metadata": {},
   "outputs": [],
   "source": []
  },
  {
   "cell_type": "code",
   "execution_count": null,
   "metadata": {},
   "outputs": [],
   "source": []
  },
  {
   "cell_type": "code",
   "execution_count": null,
   "metadata": {},
   "outputs": [],
   "source": []
  }
 ],
 "metadata": {
  "kernelspec": {
   "display_name": "shopenv",
   "language": "python",
   "name": "python3"
  },
  "language_info": {
   "codemirror_mode": {
    "name": "ipython",
    "version": 3
   },
   "file_extension": ".py",
   "mimetype": "text/x-python",
   "name": "python",
   "nbconvert_exporter": "python",
   "pygments_lexer": "ipython3",
   "version": "3.11.0"
  },
  "orig_nbformat": 4
 },
 "nbformat": 4,
 "nbformat_minor": 2
}
