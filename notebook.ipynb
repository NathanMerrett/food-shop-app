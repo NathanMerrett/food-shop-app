{
 "cells": [
  {
   "cell_type": "code",
   "execution_count": 9,
   "metadata": {},
   "outputs": [],
   "source": [
    "from bs4 import BeautifulSoup\n",
    "import requests\n"
   ]
  },
  {
   "cell_type": "code",
   "execution_count": 14,
   "metadata": {},
   "outputs": [],
   "source": [
    "tesco_sitemap = \"https://www.tesco.com/UK.sitemap.xml\""
   ]
  },
  {
   "cell_type": "code",
   "execution_count": 11,
   "metadata": {},
   "outputs": [],
   "source": [
    "def get_urls_from_sitemap(sitemap_url):\n",
    "    with requests.Session() as session:\n",
    "        response = session.get(sitemap_url)\n",
    "        response.raise_for_status()\n",
    "        \n",
    "        # Parse the sitemap XML\n",
    "        soup = BeautifulSoup(response.content, 'xml')\n",
    "        loc_elements = soup.find_all('loc')\n",
    "        \n",
    "        urls = []\n",
    "        for index, loc in enumerate(loc_elements, start=1):\n",
    "            urls.append(loc.text)\n",
    "            print(f\"Processed URL {index} of {len(loc_elements)}\")\n",
    "        \n",
    "        return urls\n",
    "    "
   ]
  }
 ],
 "metadata": {
  "kernelspec": {
   "display_name": "shopenv",
   "language": "python",
   "name": "python3"
  },
  "language_info": {
   "codemirror_mode": {
    "name": "ipython",
    "version": 3
   },
   "file_extension": ".py",
   "mimetype": "text/x-python",
   "name": "python",
   "nbconvert_exporter": "python",
   "pygments_lexer": "ipython3",
   "version": "3.11.0"
  },
  "orig_nbformat": 4
 },
 "nbformat": 4,
 "nbformat_minor": 2
}
